{
 "cells": [
  {
   "cell_type": "code",
   "execution_count": 3,
   "metadata": {},
   "outputs": [
    {
     "name": "stdout",
     "output_type": "stream",
     "text": [
      "IPython will make a temporary file named: /tmp/ipython_edit_tqslsnll/ipython_edit_hgbom20k.py\n",
      "The autoreload extension is already loaded. To reload it, use:\n",
      "  %reload_ext autoreload\n"
     ]
    }
   ],
   "source": [
    "%edit\n",
    "%load_ext autoreload\n",
    "%autoreload 2"
   ]
  },
  {
   "cell_type": "code",
   "execution_count": 3,
   "metadata": {},
   "outputs": [],
   "source": [
    "import pickle\n",
    "import torch\n",
    "from collections import OrderedDict, defaultdict\n",
    "import random\n",
    "import json\n",
    "\n",
    "import numpy as np\n",
    "\n",
    "\n",
    "from space2vec.SpatialRelationEncoder import *\n",
    "from space2vec.module import *\n",
    "from space2vec.data_utils import *\n",
    "from space2vec.utils import *"
   ]
  },
  {
   "cell_type": "code",
   "execution_count": 4,
   "metadata": {},
   "outputs": [],
   "source": [
    "params = {\n",
    "    'spa_enc_type': 'gridcell',\n",
    "    'spa_embed_dim': 64,\n",
    "    'extent': (-1, 1, -1, 1),\n",
    "    'freq': 16,\n",
    "    'max_radius': 1.0,\n",
    "    'min_radius': 1e-6,\n",
    "    'spa_f_act': \"relu\",\n",
    "    'freq_init': 'geometric',\n",
    "    'num_hidden_layer': 1,\n",
    "    'dropout': 0.5,\n",
    "    'hidden_dim': 512,\n",
    "    'use_layn': True,\n",
    "    'skip_connection': True,\n",
    "    'num_rbf_anchor_pts': 0,\n",
    "    'rbf_kernal_size': 0,\n",
    "    'spa_enc_use_postmat': True,\n",
    "    'device': 'cpu'\n",
    "}"
   ]
  },
  {
   "cell_type": "code",
   "execution_count": 1,
   "metadata": {},
   "outputs": [
    {
     "ename": "NameError",
     "evalue": "name 'get_spa_encoder' is not defined",
     "output_type": "error",
     "traceback": [
      "\u001b[0;31m---------------------------------------------------------------------------\u001b[0m",
      "\u001b[0;31mNameError\u001b[0m                                 Traceback (most recent call last)",
      "Cell \u001b[0;32mIn[1], line 1\u001b[0m\n\u001b[0;32m----> 1\u001b[0m spa_enc \u001b[38;5;241m=\u001b[39m \u001b[43mget_spa_encoder\u001b[49m(\n\u001b[1;32m      2\u001b[0m                 train_locs \u001b[38;5;241m=\u001b[39m [],\n\u001b[1;32m      3\u001b[0m                 params \u001b[38;5;241m=\u001b[39m params, \n\u001b[1;32m      4\u001b[0m                 spa_enc_type \u001b[38;5;241m=\u001b[39m params[\u001b[38;5;124m'\u001b[39m\u001b[38;5;124mspa_enc_type\u001b[39m\u001b[38;5;124m'\u001b[39m], \n\u001b[1;32m      5\u001b[0m                 spa_embed_dim \u001b[38;5;241m=\u001b[39m params[\u001b[38;5;124m'\u001b[39m\u001b[38;5;124mspa_embed_dim\u001b[39m\u001b[38;5;124m'\u001b[39m], \n\u001b[1;32m      6\u001b[0m                 extent \u001b[38;5;241m=\u001b[39m params[\u001b[38;5;124m'\u001b[39m\u001b[38;5;124mextent\u001b[39m\u001b[38;5;124m'\u001b[39m], \n\u001b[1;32m      7\u001b[0m                 coord_dim \u001b[38;5;241m=\u001b[39m \u001b[38;5;241m2\u001b[39m,\n\u001b[1;32m      8\u001b[0m                 frequency_num \u001b[38;5;241m=\u001b[39m params[\u001b[38;5;124m'\u001b[39m\u001b[38;5;124mfreq\u001b[39m\u001b[38;5;124m'\u001b[39m], \n\u001b[1;32m      9\u001b[0m                 max_radius \u001b[38;5;241m=\u001b[39m params[\u001b[38;5;124m'\u001b[39m\u001b[38;5;124mmax_radius\u001b[39m\u001b[38;5;124m'\u001b[39m], \n\u001b[1;32m     10\u001b[0m                 min_radius \u001b[38;5;241m=\u001b[39m params[\u001b[38;5;124m'\u001b[39m\u001b[38;5;124mmin_radius\u001b[39m\u001b[38;5;124m'\u001b[39m], \n\u001b[1;32m     11\u001b[0m                 f_act \u001b[38;5;241m=\u001b[39m params[\u001b[38;5;124m'\u001b[39m\u001b[38;5;124mspa_f_act\u001b[39m\u001b[38;5;124m'\u001b[39m], \n\u001b[1;32m     12\u001b[0m                 freq_init \u001b[38;5;241m=\u001b[39m params[\u001b[38;5;124m'\u001b[39m\u001b[38;5;124mfreq_init\u001b[39m\u001b[38;5;124m'\u001b[39m],\n\u001b[1;32m     13\u001b[0m                 num_rbf_anchor_pts \u001b[38;5;241m=\u001b[39m params[\u001b[38;5;124m'\u001b[39m\u001b[38;5;124mnum_rbf_anchor_pts\u001b[39m\u001b[38;5;124m'\u001b[39m], \n\u001b[1;32m     14\u001b[0m                 rbf_kernal_size \u001b[38;5;241m=\u001b[39m params[\u001b[38;5;124m'\u001b[39m\u001b[38;5;124mrbf_kernal_size\u001b[39m\u001b[38;5;124m'\u001b[39m],  \n\u001b[1;32m     15\u001b[0m                 use_postmat \u001b[38;5;241m=\u001b[39m params[\u001b[38;5;124m'\u001b[39m\u001b[38;5;124mspa_enc_use_postmat\u001b[39m\u001b[38;5;124m'\u001b[39m], \n\u001b[1;32m     16\u001b[0m                 device \u001b[38;5;241m=\u001b[39m params[\u001b[38;5;124m'\u001b[39m\u001b[38;5;124mdevice\u001b[39m\u001b[38;5;124m'\u001b[39m])\u001b[38;5;241m.\u001b[39mto(params[\u001b[38;5;124m'\u001b[39m\u001b[38;5;124mdevice\u001b[39m\u001b[38;5;124m'\u001b[39m])\n",
      "\u001b[0;31mNameError\u001b[0m: name 'get_spa_encoder' is not defined"
     ]
    }
   ],
   "source": [
    "spa_enc = get_spa_encoder(\n",
    "                train_locs = [],\n",
    "                params = params, \n",
    "                spa_enc_type = params['spa_enc_type'], \n",
    "                spa_embed_dim = params['spa_embed_dim'], \n",
    "                extent = params['extent'], \n",
    "                coord_dim = 2,\n",
    "                frequency_num = params['freq'], \n",
    "                max_radius = params['max_radius'], \n",
    "                min_radius = params['min_radius'], \n",
    "                f_act = params['spa_f_act'], \n",
    "                freq_init = params['freq_init'],\n",
    "                num_rbf_anchor_pts = params['num_rbf_anchor_pts'], \n",
    "                rbf_kernal_size = params['rbf_kernal_size'],  \n",
    "                use_postmat = params['spa_enc_use_postmat'], \n",
    "                device = params['device']).to(params['device'])"
   ]
  },
  {
   "cell_type": "code",
   "execution_count": null,
   "metadata": {},
   "outputs": [],
   "source": [
    "spa_enc = get_spa_encoder(spa_enc_type = gridcell)"
   ]
  },
  {
   "cell_type": "code",
   "execution_count": 6,
   "metadata": {},
   "outputs": [],
   "source": [
    "batch_size, num_context_pts, coord_dim = 10, 1, 2\n",
    "coords = np.random.rand(batch_size, num_context_pts, coord_dim)\n",
    "\n",
    "spa_embeds = spa_enc(coords)"
   ]
  },
  {
   "cell_type": "code",
   "execution_count": 8,
   "metadata": {},
   "outputs": [
    {
     "data": {
      "text/plain": [
       "torch.Size([10, 1, 64])"
      ]
     },
     "execution_count": 8,
     "metadata": {},
     "output_type": "execute_result"
    }
   ],
   "source": [
    "spa_embeds.shape"
   ]
  },
  {
   "cell_type": "code",
   "execution_count": null,
   "metadata": {},
   "outputs": [],
   "source": []
  }
 ],
 "metadata": {
  "kernelspec": {
   "display_name": "Python 3 (ipykernel)",
   "language": "python",
   "name": "python3"
  },
  "language_info": {
   "codemirror_mode": {
    "name": "ipython",
    "version": 3
   },
   "file_extension": ".py",
   "mimetype": "text/x-python",
   "name": "python",
   "nbconvert_exporter": "python",
   "pygments_lexer": "ipython3",
   "version": "3.8.15"
  }
 },
 "nbformat": 4,
 "nbformat_minor": 4
}
